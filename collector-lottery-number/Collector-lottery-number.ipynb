{
 "cells": [
  {
   "cell_type": "code",
   "execution_count": 57,
   "metadata": {},
   "outputs": [],
   "source": [
    "from selenium import webdriver\n",
    "from selenium.webdriver.common.by import By"
   ]
  },
  {
   "cell_type": "code",
   "execution_count": 58,
   "metadata": {},
   "outputs": [
    {
     "name": "stderr",
     "output_type": "stream",
     "text": [
      "C:\\Users\\kou81\\AppData\\Local\\Temp/ipykernel_23120/655771661.py:1: DeprecationWarning: executable_path has been deprecated, please pass in a Service object\n",
      "  driver = webdriver.Chrome('../selenium/chromedriver.exe')\n"
     ]
    }
   ],
   "source": [
    "driver = webdriver.Chrome('../selenium/chromedriver.exe')\n",
    "url = 'https://dhlottery.co.kr/gameResult.do?method=statConsNumber&sortOrder=DESC&startPage=1&endPage=10&currentPage=1'\n",
    "driver.get(url)"
   ]
  },
  {
   "cell_type": "code",
   "execution_count": 68,
   "metadata": {},
   "outputs": [],
   "source": [
    "def save_number(lottery_list):\n",
    "    for i in range(1,11):\n",
    "        try:\n",
    "            round = driver.find_element(By.CSS_SELECTOR,\"#article > div:nth-child(2) > div > table > tbody > tr:nth-child({}) > td:nth-child(1)\".format(i)).text\n",
    "            win_day = driver.find_element(By.CSS_SELECTOR,\"#article > div:nth-child(2) > div > table > tbody > tr:nth-child({}) > td:nth-child(2)\".format(i)).text\n",
    "            \n",
    "            first_number = driver.find_element(By.CSS_SELECTOR,\"#article > div:nth-child(2) > div > table > tbody > tr:nth-child({}) > td:nth-child(3) > span:nth-child(1)\".format(i)).text\n",
    "            second_number = driver.find_element(By.CSS_SELECTOR,\"#article > div:nth-child(2) > div > table > tbody > tr:nth-child({}) > td:nth-child(3) > span:nth-child(2)\".format(i)).text\n",
    "            third_number = driver.find_element(By.CSS_SELECTOR,\"#article > div:nth-child(2) > div > table > tbody > tr:nth-child({}) > td:nth-child(3) > span:nth-child(3)\".format(i)).text\n",
    "            fourth_number = driver.find_element(By.CSS_SELECTOR,\"#article > div:nth-child(2) > div > table > tbody > tr:nth-child({}) > td:nth-child(3) > span:nth-child(4)\".format(i)).text\n",
    "            fifth_number = driver.find_element(By.CSS_SELECTOR,\"#article > div:nth-child(2) > div > table > tbody > tr:nth-child({}) > td:nth-child(3) > span:nth-child(5)\".format(i)).text\n",
    "            sixth_number = driver.find_element(By.CSS_SELECTOR,\"#article > div:nth-child(2) > div > table > tbody > tr:nth-child({}) > td:nth-child(3) > span:nth-child(6)\".format(i)).text\n",
    "            # lottery_list.append([round,win_day,first_number,second_number,third_number,fourth_number,fifth_number,sixth_number])\n",
    "            lottery_list.append([round])\n",
    "        except:\n",
    "            pass"
   ]
  },
  {
   "cell_type": "code",
   "execution_count": 89,
   "metadata": {},
   "outputs": [
    {
     "name": "stdout",
     "output_type": "stream",
     "text": [
      "[['834'], ['833'], ['832'], ['831'], ['830'], ['829'], ['828'], ['827'], ['826'], ['825'], ['824'], ['823'], ['822'], ['821'], ['820'], ['819'], ['818'], ['817'], ['816'], ['815'], ['814'], ['813'], ['812'], ['811'], ['810'], ['809'], ['808'], ['807'], ['806'], ['805'], ['804'], ['803'], ['802'], ['801'], ['800'], ['799'], ['798'], ['797'], ['796'], ['795'], ['794'], ['793'], ['792'], ['791'], ['790'], ['789'], ['788'], ['787'], ['786'], ['785'], ['784'], ['783'], ['782'], ['781'], ['780'], ['779'], ['778'], ['777'], ['776'], ['775'], ['774'], ['773'], ['772'], ['771'], ['770'], ['769'], ['768'], ['767'], ['766'], ['765'], ['764'], ['763'], ['762'], ['761'], ['760'], ['759'], ['758'], ['757'], ['756'], ['755'], ['754'], ['753'], ['752'], ['751'], ['750'], ['749'], ['748'], ['747'], ['746'], ['745'], ['744'], ['743'], ['742'], ['741'], ['740'], ['739'], ['738'], ['737'], ['736'], ['735'], ['734'], ['733'], ['732'], ['731'], ['730'], ['729'], ['728'], ['727'], ['726'], ['725'], ['724'], ['723'], ['722'], ['721'], ['720'], ['719'], ['718'], ['717'], ['716'], ['715'], ['714'], ['713'], ['712'], ['711'], ['710'], ['709'], ['708'], ['707'], ['706'], ['705'], ['704'], ['703'], ['702'], ['701'], ['700'], ['699'], ['698'], ['697'], ['696'], ['695'], ['694'], ['693'], ['692'], ['691'], ['690'], ['689'], ['688'], ['687'], ['686'], ['685'], ['684'], ['683'], ['682'], ['681'], ['680'], ['679'], ['678'], ['677'], ['676'], ['675'], ['674'], ['673'], ['672'], ['671'], ['670'], ['669'], ['668'], ['667'], ['666'], ['665'], ['664'], ['663'], ['662'], ['661'], ['660'], ['659'], ['658'], ['657'], ['656'], ['655'], ['654'], ['653'], ['652'], ['651'], ['650'], ['649'], ['648'], ['647'], ['646'], ['645'], ['644'], ['643'], ['642'], ['641'], ['640'], ['639'], ['638'], ['637'], ['636'], ['635']]\n"
     ]
    }
   ],
   "source": [
    "lottery_list=[]\n",
    "for r in range(21,41):\n",
    "    if(r<11):\n",
    "        if r==1:\n",
    "            save_number(lottery_list)\n",
    "            driver.find_element(By.CSS_SELECTOR,\"#page_box > a:nth-child({})\".format(r+1)).click()\n",
    "        else:\n",
    "            save_number(lottery_list)\n",
    "            if(r==10):\n",
    "                driver.find_element(By.CSS_SELECTOR,\"#page_box > a.go.next\").click()\n",
    "            else:\n",
    "                driver.find_element(By.CSS_SELECTOR,\"#page_box > a:nth-child({})\".format(r+1)).click()\n",
    "    if(r>=11):\n",
    "        new_r=r%10+2\n",
    "        if new_r==3:\n",
    "            save_number(lottery_list)\n",
    "            driver.find_element(By.CSS_SELECTOR,\"#page_box > a:nth-child({})\".format(new_r+1)).click()\n",
    "        else:\n",
    "            save_number(lottery_list)\n",
    "            if(r%10==0):\n",
    "                driver.find_element(By.CSS_SELECTOR,\"#page_box > a.go.next\").click()\n",
    "            else:\n",
    "                driver.find_element(By.CSS_SELECTOR,\"#page_box > a:nth-child({})\".format(new_r+1)).click()\n",
    "print(lottery_list)"
   ]
  },
  {
   "cell_type": "code",
   "execution_count": 71,
   "metadata": {},
   "outputs": [],
   "source": [
    "driver.find_element(By.CSS_SELECTOR,\"#page_box > a.go.next\").click()"
   ]
  }
 ],
 "metadata": {
  "kernelspec": {
   "display_name": "Python 3.9.7 ('base')",
   "language": "python",
   "name": "python3"
  },
  "language_info": {
   "codemirror_mode": {
    "name": "ipython",
    "version": 3
   },
   "file_extension": ".py",
   "mimetype": "text/x-python",
   "name": "python",
   "nbconvert_exporter": "python",
   "pygments_lexer": "ipython3",
   "version": "3.9.7"
  },
  "orig_nbformat": 4,
  "vscode": {
   "interpreter": {
    "hash": "bbcfbd64c29e714f7018af5161f690c76677c836b1844f1af724e99a3618b2e4"
   }
  }
 },
 "nbformat": 4,
 "nbformat_minor": 2
}
